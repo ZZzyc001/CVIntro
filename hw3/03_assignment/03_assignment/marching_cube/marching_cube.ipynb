{
 "cells": [
  {
   "cell_type": "code",
   "execution_count": 13,
   "metadata": {},
   "outputs": [],
   "source": [
    "import numpy as np\n",
    "from lookup_table import CaseNum2EdgeOffset, getCaseNum\n",
    "import trimesh\n",
    "import os\n",
    "import time"
   ]
  },
  {
   "cell_type": "code",
   "execution_count": 14,
   "metadata": {},
   "outputs": [],
   "source": [
    "def marching_cube(thres,cells):\n",
    "    # vertices use dictionary to avoid duplicate axes\n",
    "    vertex_array = {}\n",
    "    face_array = []\n",
    "    t1 = time.time()\n",
    "    # -------------------TODO------------------ \n",
    "    # compute vertices and faces\n",
    "    # vertices: [N, 3]\n",
    "    # faces: [M, 3], e.g. np.array([[0,1,2]]) means a triangle composed of vertices[0], vertices[1] and vertices[2]\n",
    "    # for-loop is allowed to reduce difficulty\n",
    "    # -------------------TODO------------------ \n",
    "    \n",
    "    def interp(p1, p2, v1, v2):\n",
    "        return (thres - v1) / (v2 - v1) * (p2 - p1) + p1\n",
    "    \n",
    "    edges = {}\n",
    "    vcnt = 0\n",
    "    for i in range(cells.shape[0] - 1):\n",
    "        for j in range(cells.shape[1] - 1):\n",
    "            for k in range(cells.shape[2] - 1):\n",
    "                case_nums = getCaseNum(i, j, k, thres, cells)\n",
    "                faces = []\n",
    "                for case_num in case_nums:\n",
    "                    if case_num == -1:\n",
    "                        break\n",
    "                    edge_offset = CaseNum2EdgeOffset[case_num]\n",
    "                    p1 = np.array([i, j, k]) + edge_offset[:3]\n",
    "                    p2 = np.array([i, j, k]) + edge_offset[3:]\n",
    "                    v1 = cells[p1[0], p1[1], p1[2]]\n",
    "                    v2 = cells[p2[0], p2[1], p2[2]]\n",
    "                    p = interp(p1, p2, v1, v2)\n",
    "                    key = (p1[0], p1[1], p1[2], p2[0], p2[1], p2[2])\n",
    "                    if edges.get(key) is None:\n",
    "                        edges[key] = vcnt\n",
    "                        vertex_array[vcnt] = p\n",
    "                        vcnt += 1\n",
    "                    faces.append(edges[key])\n",
    "                    if len(faces) == 3:\n",
    "                        face_array.append(np.array(faces))\n",
    "                        faces = []\n",
    "                    \n",
    "    \n",
    "    t2 = time.time()\n",
    "    print(\"\\nTime taken by algorithm\\n\"+'-'*40+\"\\n{} s\".format(t2-t1))\n",
    "    vertex_array = list(vertex_array.values())\n",
    "    return np.array(vertex_array), np.array(face_array)"
   ]
  },
  {
   "cell_type": "code",
   "execution_count": 15,
   "metadata": {},
   "outputs": [
    {
     "name": "stdout",
     "output_type": "stream",
     "text": [
      "\n",
      "Time taken by algorithm\n",
      "----------------------------------------\n",
      "3.7642502784729004 s\n",
      "\n",
      "Time taken by algorithm\n",
      "----------------------------------------\n",
      "3.874124526977539 s\n"
     ]
    }
   ],
   "source": [
    "# reconstruct these two animals\n",
    "shape_name_lst = ['spot', 'bob']\n",
    "for shape_name in shape_name_lst:\n",
    "    data = np.load(os.path.join('data', shape_name + '_cell.npy'))\n",
    "    verts, faces = marching_cube(0, data)\n",
    "    mesh = trimesh.Trimesh(vertices=verts, faces=faces)\n",
    "    mesh_txt = trimesh.exchange.obj.export_obj(mesh)\n",
    "    with open(os.path.join('../results', shape_name + '.obj'),\"w\") as fp:\n",
    "        fp.write(mesh_txt)"
   ]
  }
 ],
 "metadata": {
  "interpreter": {
   "hash": "436b5965732ccf282764bcf9546f770885eff9f048ad24ec0c34e8c61e883580"
  },
  "kernelspec": {
   "display_name": "Python 3.7.4 ('base')",
   "language": "python",
   "name": "python3"
  },
  "language_info": {
   "codemirror_mode": {
    "name": "ipython",
    "version": 3
   },
   "file_extension": ".py",
   "mimetype": "text/x-python",
   "name": "python",
   "nbconvert_exporter": "python",
   "pygments_lexer": "ipython3",
   "version": "3.11.3"
  },
  "orig_nbformat": 4
 },
 "nbformat": 4,
 "nbformat_minor": 2
}
